{
 "cells": [
  {
   "cell_type": "code",
   "execution_count": null,
   "id": "c8f9f279",
   "metadata": {},
   "outputs": [],
   "source": [
    "!pip install nltk"
   ]
  },
  {
   "cell_type": "code",
   "execution_count": 11,
   "id": "3b2261fc",
   "metadata": {},
   "outputs": [],
   "source": [
    "from urllib import request\n",
    "import numpy as np\n",
    "import pandas as pd\n",
    "import matplotlib.pyplot as plt\n",
    "from sklearn.model_selection import train_test_split\n",
    "from sklearn.feature_extraction.text import TfidfVectorizer\n",
    "import nltk\n",
    "from nltk.sentiment import SentimentIntensityAnalyzer\n",
    "from sklearn.svm import SVC\n",
    "from sklearn.metrics import accuracy_score\n",
    "from sklearn.metrics import precision_score\n",
    "from sklearn.metrics import f1_score"
   ]
  },
  {
   "cell_type": "code",
   "execution_count": 12,
   "id": "46d373f8",
   "metadata": {},
   "outputs": [],
   "source": [
    "train = pd.read_csv('train.csv')\n",
    "test = pd.read_csv('test.csv')\n",
    "test = test.set_index('id', drop = True)\n"
   ]
  },
  {
   "cell_type": "code",
   "execution_count": 13,
   "id": "8cdf0ed1",
   "metadata": {},
   "outputs": [],
   "source": [
    "# Dropping all rows where text column is NaN\n",
    "train.dropna(axis=0, how=\"any\", thresh=None, subset=['text'], inplace=True)\n",
    "test = test.fillna(' ')\n",
    "\n",
    "# Checking length of each article\n",
    "length = []\n",
    "[length.append(len(str(text))) for text in train['text']]\n",
    "train['length'] = length\n",
    "\n",
    "# Removing outliers, it will reduce overfitting\n",
    "train = train.drop(train['text'][train['length'] < 50].index, axis = 0)"
   ]
  },
  {
   "cell_type": "code",
   "execution_count": 201,
   "id": "74c68f0f",
   "metadata": {},
   "outputs": [],
   "source": [
    "# Secluding labels in a new pandas dataframe for supervised learning\n",
    "train_labels = train['label']\n",
    "# Splitting data into training and testing sets\n",
    "x_train, x_test, y_train, y_test = train_test_split(train['text'], train_labels, test_size=0.2, random_state=0)\n",
    "\n",
    "# Setting up Term Frequency - Inverse Document Frequency Vectorizer\n",
    "#tfidf = TfidfVectorizer(stop_words = 'english', max_df = 0.7)\n",
    "tfidf = TfidfVectorizer(stop_words = 'english', max_features=2000)\n",
    "# Fit and transform training set and transform test set\n",
    "tfidf_train = tfidf.fit_transform(x_train) \n",
    "tfidf_test = tfidf.transform(x_test)\n",
    "tfidf_test_final = tfidf.transform(test['text'])"
   ]
  },
  {
   "cell_type": "code",
   "execution_count": 202,
   "id": "6e5efcd8",
   "metadata": {},
   "outputs": [],
   "source": [
    "X_train = pd.DataFrame(tfidf_train.toarray())\n",
    "X_test = pd.DataFrame(tfidf_test.toarray())"
   ]
  },
  {
   "cell_type": "code",
   "execution_count": 214,
   "id": "fe09d8b9",
   "metadata": {},
   "outputs": [],
   "source": [
    "clf = SVC(kernel = 'linear',tol = 1)\n",
    "model = clf.fit(X_train, y_train)"
   ]
  },
  {
   "cell_type": "code",
   "execution_count": 215,
   "id": "66dcd490",
   "metadata": {},
   "outputs": [
    {
     "name": "stdout",
     "output_type": "stream",
     "text": [
      "Train : 0.9637535729489752, Test: 0.9438092921430309\n"
     ]
    }
   ],
   "source": [
    "y_train_pred= model.predict(X_train)\n",
    "y_test_pred=model.predict(X_test)\n",
    "train_accuracy = accuracy_score(y_train,y_train_pred)\n",
    "test_accuracy = accuracy_score(y_test,y_test_pred)\n",
    "print(\"Train : {}, Test: {}\".format(train_accuracy,test_accuracy))"
   ]
  },
  {
   "cell_type": "code",
   "execution_count": 216,
   "id": "5b0be375",
   "metadata": {},
   "outputs": [],
   "source": [
    "f1score=f1_score(y_train, y_train_pred)"
   ]
  },
  {
   "cell_type": "code",
   "execution_count": 217,
   "id": "2404562e",
   "metadata": {},
   "outputs": [
    {
     "name": "stdout",
     "output_type": "stream",
     "text": [
      "0.9635295557459308\n",
      "              precision    recall  f1-score   support\n",
      "\n",
      "           0       0.97      0.96      0.96      8303\n",
      "           1       0.96      0.97      0.96      8140\n",
      "\n",
      "    accuracy                           0.96     16443\n",
      "   macro avg       0.96      0.96      0.96     16443\n",
      "weighted avg       0.96      0.96      0.96     16443\n",
      "\n"
     ]
    }
   ],
   "source": [
    "print(f1score)"
   ]
  },
  {
   "cell_type": "code",
   "execution_count": 218,
   "id": "2ebf7702",
   "metadata": {},
   "outputs": [
    {
     "name": "stdout",
     "output_type": "stream",
     "text": [
      "0.9637826563034471\n"
     ]
    }
   ],
   "source": [
    "prec=precision_score(y_train, y_train_pred, average='weighted')\n",
    "print(prec)"
   ]
  },
  {
   "cell_type": "code",
   "execution_count": 219,
   "id": "bb9b1530",
   "metadata": {},
   "outputs": [
    {
     "data": {
      "image/png": "[encoded data removed]",
      "text/plain": [
       "<Figure size 640x480 with 1 Axes>"
      ]
     },
     "metadata": {},
     "output_type": "display_data"
    }
   ],
   "source": [
    "# feature_x=[5,10,20,50,100,500,1000,2000,5000,7500,10000]\n",
    "# f1score_y=[0.7522955257151956,0.7997867235403893,0.8076039273031127,0.8434055694584953,0.8719534958135566,0.9306802206120904,0.9471628512531192,0.9636353753329348,0.979140569685747,0.9843154340485786,0.9869818617571763]\n",
    "# # Function to plot\n",
    "# plt.plot(feature_x,f1score_y,marker=\">\")\n",
    "# plt.xlabel(\"Max Features\")\n",
    "# plt.ylabel(\"F1 score\")\n",
    "# # function to show the plot\n",
    "# # plt.show()\n",
    "# plt.savefig(\"feature_to_f1.png\")"
   ]
  },
  {
   "cell_type": "code",
   "execution_count": null,
   "id": "e22cf2d8",
   "metadata": {},
   "outputs": [],
   "source": []
  }
 ],
 "metadata": {
  "kernelspec": {
   "display_name": "Python 3 (ipykernel)",
   "language": "python",
   "name": "python3"
  },
  "language_info": {
   "codemirror_mode": {
    "name": "ipython",
    "version": 3
   },
   "file_extension": ".py",
   "mimetype": "text/x-python",
   "name": "python",
   "nbconvert_exporter": "python",
   "pygments_lexer": "ipython3",
   "version": "3.10.6"
  }
 },
 "nbformat": 4,
 "nbformat_minor": 5
}
